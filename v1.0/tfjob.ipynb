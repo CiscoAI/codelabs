{
 "cells": [
  {
   "cell_type": "markdown",
   "metadata": {},
   "source": [
    "# Kubeflow TFJob walkthrough"
   ]
  },
  {
   "cell_type": "markdown",
   "metadata": {},
   "source": [
    "## mnist training using TFJob\n",
    "[source](https://github.com/kubeflow/tf-operator/blob/master/sdk/python/examples/kubeflow-tfjob-sdk.ipynb)"
   ]
  },
  {
   "cell_type": "markdown",
   "metadata": {},
   "source": [
    "## Install all Kubeflow packages"
   ]
  },
  {
   "cell_type": "code",
   "execution_count": null,
   "metadata": {},
   "outputs": [],
   "source": [
    "!pip install kubeflow-fairing\n",
    "!pip install kubeflow-tfjob\n",
    "!pip install kubeflow-pytorchjob"
   ]
  },
  {
   "cell_type": "markdown",
   "metadata": {},
   "source": [
    "## Import Installed packages"
   ]
  },
  {
   "cell_type": "code",
   "execution_count": null,
   "metadata": {},
   "outputs": [],
   "source": [
    "from kubeflow import fairing"
   ]
  },
  {
   "cell_type": "markdown",
   "metadata": {},
   "source": [
    "## Import Kubernetes specs and TFJob specs"
   ]
  },
  {
   "cell_type": "code",
   "execution_count": 7,
   "metadata": {},
   "outputs": [],
   "source": [
    "from kubernetes.client import V1PodTemplateSpec\n",
    "from kubernetes.client import V1ObjectMeta\n",
    "from kubernetes.client import V1PodSpec\n",
    "from kubernetes.client import V1Container\n",
    "\n",
    "from kubeflow.tfjob import constants\n",
    "from kubeflow.tfjob import utils\n",
    "from kubeflow.tfjob import V1ReplicaSpec\n",
    "from kubeflow.tfjob import V1TFJob\n",
    "from kubeflow.tfjob import V1TFJobSpec\n",
    "from kubeflow.tfjob import TFJobClient\n",
    "from kubeflow.tfjob import V1TFJobList"
   ]
  },
  {
   "cell_type": "code",
   "execution_count": 2,
   "metadata": {},
   "outputs": [],
   "source": [
    "namespace = \"anonymous\"\n",
    "container = V1Container(\n",
    "    name=\"tensorflow\",\n",
    "    image=\"gcr.io/kubeflow-ci/tf-mnist-with-summaries:1.0\",\n",
    "    command=[\n",
    "        \"python\",\n",
    "        \"/var/tf_mnist/mnist_with_summaries.py\",\n",
    "        \"--log_dir=/train/logs\", \"--learning_rate=0.01\",\n",
    "        \"--batch_size=150\"\n",
    "        ]\n",
    ")\n",
    "\n",
    "worker = V1ReplicaSpec(\n",
    "    replicas=2,\n",
    "    restart_policy=\"Never\",\n",
    "    template=V1PodTemplateSpec(\n",
    "        spec=V1PodSpec(\n",
    "            containers=[container]\n",
    "        )\n",
    "    )\n",
    ")\n",
    "\n",
    "chief = V1ReplicaSpec(\n",
    "    replicas=1,\n",
    "    restart_policy=\"Never\",\n",
    "    template=V1PodTemplateSpec(\n",
    "        spec=V1PodSpec(\n",
    "            containers=[container]\n",
    "        )\n",
    "    )\n",
    ")\n",
    "\n",
    "ps = V1ReplicaSpec(\n",
    "    replicas=1,\n",
    "    restart_policy=\"Never\",\n",
    "    template=V1PodTemplateSpec(\n",
    "        spec=V1PodSpec(\n",
    "            containers=[container]\n",
    "        )\n",
    "    )\n",
    ")\n",
    "\n",
    "tfjob = V1TFJob(\n",
    "    api_version=\"kubeflow.org/v1\",\n",
    "    kind=\"TFJob\",\n",
    "    metadata=V1ObjectMeta(name=\"mnist\",namespace=namespace),\n",
    "    spec=V1TFJobSpec(\n",
    "        clean_pod_policy=\"None\",\n",
    "        tf_replica_specs={\"Worker\": worker,\n",
    "                          \"Chief\": chief,\n",
    "                          \"PS\": ps}\n",
    "    )\n",
    ")"
   ]
  },
  {
   "cell_type": "markdown",
   "metadata": {},
   "source": [
    "## Create TFJob"
   ]
  },
  {
   "cell_type": "code",
   "execution_count": 3,
   "metadata": {},
   "outputs": [
    {
     "data": {
      "text/plain": [
       "{'apiVersion': 'kubeflow.org/v1',\n",
       " 'kind': 'TFJob',\n",
       " 'metadata': {'creationTimestamp': '2020-02-10T23:10:03Z',\n",
       "  'generation': 1,\n",
       "  'name': 'mnist',\n",
       "  'namespace': 'anonymous',\n",
       "  'resourceVersion': '39195',\n",
       "  'selfLink': '/apis/kubeflow.org/v1/namespaces/anonymous/tfjobs/mnist',\n",
       "  'uid': '7838f531-4c5a-11ea-b08f-0242ac110002'},\n",
       " 'spec': {'cleanPodPolicy': 'None',\n",
       "  'tfReplicaSpecs': {'Chief': {'replicas': 1,\n",
       "    'restartPolicy': 'Never',\n",
       "    'template': {'spec': {'containers': [{'command': ['python',\n",
       "         '/var/tf_mnist/mnist_with_summaries.py',\n",
       "         '--log_dir=/train/logs',\n",
       "         '--learning_rate=0.01',\n",
       "         '--batch_size=150'],\n",
       "        'image': 'gcr.io/kubeflow-ci/tf-mnist-with-summaries:1.0',\n",
       "        'name': 'tensorflow'}]}}},\n",
       "   'PS': {'replicas': 1,\n",
       "    'restartPolicy': 'Never',\n",
       "    'template': {'spec': {'containers': [{'command': ['python',\n",
       "         '/var/tf_mnist/mnist_with_summaries.py',\n",
       "         '--log_dir=/train/logs',\n",
       "         '--learning_rate=0.01',\n",
       "         '--batch_size=150'],\n",
       "        'image': 'gcr.io/kubeflow-ci/tf-mnist-with-summaries:1.0',\n",
       "        'name': 'tensorflow'}]}}},\n",
       "   'Worker': {'replicas': 2,\n",
       "    'restartPolicy': 'Never',\n",
       "    'template': {'spec': {'containers': [{'command': ['python',\n",
       "         '/var/tf_mnist/mnist_with_summaries.py',\n",
       "         '--log_dir=/train/logs',\n",
       "         '--learning_rate=0.01',\n",
       "         '--batch_size=150'],\n",
       "        'image': 'gcr.io/kubeflow-ci/tf-mnist-with-summaries:1.0',\n",
       "        'name': 'tensorflow'}]}}}}}}"
      ]
     },
     "execution_count": 3,
     "metadata": {},
     "output_type": "execute_result"
    }
   ],
   "source": [
    "tfjob_client = TFJobClient()\n",
    "tfjob_client.create(tfjob, namespace=namespace)"
   ]
  },
  {
   "cell_type": "markdown",
   "metadata": {},
   "source": [
    "## Get Job and wait for it to finish"
   ]
  },
  {
   "cell_type": "code",
   "execution_count": 4,
   "metadata": {},
   "outputs": [
    {
     "name": "stdout",
     "output_type": "stream",
     "text": [
      "NAME                           STATE                TIME                          \n",
      "mnist                          Running              2020-02-10T23:10:05Z          \n",
      "mnist                          Running              2020-02-10T23:10:05Z          \n",
      "mnist                          Succeeded            2020-02-10T23:11:37Z          \n"
     ]
    }
   ],
   "source": [
    "tfjob_client.wait_for_job('mnist', namespace=namespace, watch=True)"
   ]
  },
  {
   "cell_type": "markdown",
   "metadata": {},
   "source": [
    "## TFJob Logs"
   ]
  },
  {
   "cell_type": "code",
   "execution_count": 5,
   "metadata": {},
   "outputs": [
    {
     "name": "stderr",
     "output_type": "stream",
     "text": [
      "The logs of Pod mnist-chief-0:\n",
      " WARNING:tensorflow:From /var/tf_mnist/mnist_with_summaries.py:39: read_data_sets (from tensorflow.contrib.learn.python.learn.datasets.mnist) is deprecated and will be removed in a future version.\n",
      "Instructions for updating:\n",
      "Please use alternatives such as official/mnist/dataset.py from tensorflow/models.\n",
      "WARNING:tensorflow:From /usr/local/lib/python2.7/dist-packages/tensorflow/contrib/learn/python/learn/datasets/mnist.py:260: maybe_download (from tensorflow.contrib.learn.python.learn.datasets.base) is deprecated and will be removed in a future version.\n",
      "Instructions for updating:\n",
      "Please write your own downloading logic.\n",
      "WARNING:tensorflow:From /usr/local/lib/python2.7/dist-packages/tensorflow/contrib/learn/python/learn/datasets/base.py:252: wrapped_fn (from tensorflow.contrib.learn.python.learn.datasets.base) is deprecated and will be removed in a future version.\n",
      "Instructions for updating:\n",
      "Please use urllib or similar directly.\n",
      "WARNING:tensorflow:From /usr/local/lib/python2.7/dist-packages/tensorflow/contrib/learn/python/learn/datasets/mnist.py:262: extract_images (from tensorflow.contrib.learn.python.learn.datasets.mnist) is deprecated and will be removed in a future version.\n",
      "Instructions for updating:\n",
      "Please use tf.data to implement this functionality.\n",
      "WARNING:tensorflow:From /usr/local/lib/python2.7/dist-packages/tensorflow/contrib/learn/python/learn/datasets/mnist.py:267: extract_labels (from tensorflow.contrib.learn.python.learn.datasets.mnist) is deprecated and will be removed in a future version.\n",
      "Instructions for updating:\n",
      "Please use tf.data to implement this functionality.\n",
      "WARNING:tensorflow:From /usr/local/lib/python2.7/dist-packages/tensorflow/contrib/learn/python/learn/datasets/mnist.py:290: __init__ (from tensorflow.contrib.learn.python.learn.datasets.mnist) is deprecated and will be removed in a future version.\n",
      "Instructions for updating:\n",
      "Please use alternatives such as official/mnist/dataset.py from tensorflow/models.\n",
      "2020-02-10 23:10:08.373954: I tensorflow/core/platform/cpu_feature_guard.cc:141] Your CPU supports instructions that this TensorFlow binary was not compiled to use: AVX2 FMA\n",
      "Successfully downloaded train-images-idx3-ubyte.gz 9912422 bytes.\n",
      "Extracting /tmp/tensorflow/mnist/input_data/train-images-idx3-ubyte.gz\n",
      "Successfully downloaded train-labels-idx1-ubyte.gz 28881 bytes.\n",
      "Extracting /tmp/tensorflow/mnist/input_data/train-labels-idx1-ubyte.gz\n",
      "Successfully downloaded t10k-images-idx3-ubyte.gz 1648877 bytes.\n",
      "Extracting /tmp/tensorflow/mnist/input_data/t10k-images-idx3-ubyte.gz\n",
      "Successfully downloaded t10k-labels-idx1-ubyte.gz 4542 bytes.\n",
      "Extracting /tmp/tensorflow/mnist/input_data/t10k-labels-idx1-ubyte.gz\n",
      "Accuracy at step 0: 0.102\n",
      "Accuracy at step 10: 0.8064\n",
      "Accuracy at step 20: 0.8907\n",
      "Accuracy at step 30: 0.907\n",
      "Accuracy at step 40: 0.9221\n",
      "Accuracy at step 50: 0.9283\n",
      "Accuracy at step 60: 0.9266\n",
      "Accuracy at step 70: 0.9319\n",
      "Accuracy at step 80: 0.9377\n",
      "Accuracy at step 90: 0.9386\n",
      "Adding run metadata for 99\n",
      "Accuracy at step 100: 0.9416\n",
      "Accuracy at step 110: 0.9462\n",
      "Accuracy at step 120: 0.9463\n",
      "Accuracy at step 130: 0.9513\n",
      "Accuracy at step 140: 0.9519\n",
      "Accuracy at step 150: 0.9521\n",
      "Accuracy at step 160: 0.9515\n",
      "Accuracy at step 170: 0.9503\n",
      "Accuracy at step 180: 0.9484\n",
      "Accuracy at step 190: 0.9557\n",
      "Adding run metadata for 199\n",
      "Accuracy at step 200: 0.9538\n",
      "Accuracy at step 210: 0.9571\n",
      "Accuracy at step 220: 0.9527\n",
      "Accuracy at step 230: 0.9501\n",
      "Accuracy at step 240: 0.9539\n",
      "Accuracy at step 250: 0.9462\n",
      "Accuracy at step 260: 0.9533\n",
      "Accuracy at step 270: 0.9583\n",
      "Accuracy at step 280: 0.9588\n",
      "Accuracy at step 290: 0.9596\n",
      "Adding run metadata for 299\n",
      "Accuracy at step 300: 0.9592\n",
      "Accuracy at step 310: 0.9579\n",
      "Accuracy at step 320: 0.9579\n",
      "Accuracy at step 330: 0.9612\n",
      "Accuracy at step 340: 0.9554\n",
      "Accuracy at step 350: 0.9558\n",
      "Accuracy at step 360: 0.9613\n",
      "Accuracy at step 370: 0.956\n",
      "Accuracy at step 380: 0.958\n",
      "Accuracy at step 390: 0.9604\n",
      "Adding run metadata for 399\n",
      "Accuracy at step 400: 0.9625\n",
      "Accuracy at step 410: 0.9625\n",
      "Accuracy at step 420: 0.9565\n",
      "Accuracy at step 430: 0.9618\n",
      "Accuracy at step 440: 0.963\n",
      "Accuracy at step 450: 0.9674\n",
      "Accuracy at step 460: 0.9664\n",
      "Accuracy at step 470: 0.9675\n",
      "Accuracy at step 480: 0.9668\n",
      "Accuracy at step 490: 0.9635\n",
      "Adding run metadata for 499\n",
      "Accuracy at step 500: 0.9626\n",
      "Accuracy at step 510: 0.9633\n",
      "Accuracy at step 520: 0.9646\n",
      "Accuracy at step 530: 0.96\n",
      "Accuracy at step 540: 0.9582\n",
      "Accuracy at step 550: 0.9658\n",
      "Accuracy at step 560: 0.9629\n",
      "Accuracy at step 570: 0.9645\n",
      "Accuracy at step 580: 0.9662\n",
      "Accuracy at step 590: 0.9615\n",
      "Adding run metadata for 599\n",
      "Accuracy at step 600: 0.963\n",
      "Accuracy at step 610: 0.9645\n",
      "Accuracy at step 620: 0.9632\n",
      "Accuracy at step 630: 0.9686\n",
      "Accuracy at step 640: 0.9705\n",
      "Accuracy at step 650: 0.9663\n",
      "Accuracy at step 660: 0.9588\n",
      "Accuracy at step 670: 0.9603\n",
      "Accuracy at step 680: 0.9669\n",
      "Accuracy at step 690: 0.9623\n",
      "Adding run metadata for 699\n",
      "Accuracy at step 700: 0.9667\n",
      "Accuracy at step 710: 0.9693\n",
      "Accuracy at step 720: 0.961\n",
      "Accuracy at step 730: 0.9683\n",
      "Accuracy at step 740: 0.9662\n",
      "Accuracy at step 750: 0.9708\n",
      "Accuracy at step 760: 0.9684\n",
      "Accuracy at step 770: 0.969\n",
      "Accuracy at step 780: 0.9674\n",
      "Accuracy at step 790: 0.9705\n",
      "Adding run metadata for 799\n",
      "Accuracy at step 800: 0.9709\n",
      "Accuracy at step 810: 0.9653\n",
      "Accuracy at step 820: 0.9652\n",
      "Accuracy at step 830: 0.9652\n",
      "Accuracy at step 840: 0.9655\n",
      "Accuracy at step 850: 0.9687\n",
      "Accuracy at step 860: 0.9723\n",
      "Accuracy at step 870: 0.9686\n",
      "Accuracy at step 880: 0.9735\n",
      "Accuracy at step 890: 0.9675\n",
      "Adding run metadata for 899\n",
      "Accuracy at step 900: 0.9695\n",
      "Accuracy at step 910: 0.9635\n",
      "Accuracy at step 920: 0.97\n",
      "Accuracy at step 930: 0.9701\n",
      "Accuracy at step 940: 0.9691\n",
      "Accuracy at step 950: 0.9692\n",
      "Accuracy at step 960: 0.9707\n",
      "Accuracy at step 970: 0.9712\n",
      "Accuracy at step 980: 0.9719\n",
      "Accuracy at step 990: 0.9661\n",
      "Adding run metadata for 999\n",
      "\n"
     ]
    }
   ],
   "source": [
    "tfjob_client.get_logs('mnist', namespace=namespace)"
   ]
  },
  {
   "cell_type": "markdown",
   "metadata": {},
   "source": [
    "## Delete TFJob"
   ]
  },
  {
   "cell_type": "code",
   "execution_count": 6,
   "metadata": {},
   "outputs": [
    {
     "data": {
      "text/plain": [
       "{'kind': 'Status',\n",
       " 'apiVersion': 'v1',\n",
       " 'metadata': {},\n",
       " 'status': 'Success',\n",
       " 'details': {'name': 'mnist',\n",
       "  'group': 'kubeflow.org',\n",
       "  'kind': 'tfjobs',\n",
       "  'uid': '7838f531-4c5a-11ea-b08f-0242ac110002'}}"
      ]
     },
     "execution_count": 6,
     "metadata": {},
     "output_type": "execute_result"
    }
   ],
   "source": [
    "tfjob_client.delete('mnist', namespace=namespace)"
   ]
  },
  {
   "cell_type": "markdown",
   "metadata": {},
   "source": [
    "## List all TFJobs in anonymous namespace"
   ]
  },
  {
   "cell_type": "code",
   "execution_count": null,
   "metadata": {},
   "outputs": [],
   "source": []
  }
 ],
 "metadata": {
  "kernelspec": {
   "display_name": "Python 3",
   "language": "python",
   "name": "python3"
  },
  "language_info": {
   "codemirror_mode": {
    "name": "ipython",
    "version": 3
   },
   "file_extension": ".py",
   "mimetype": "text/x-python",
   "name": "python",
   "nbconvert_exporter": "python",
   "pygments_lexer": "ipython3",
   "version": "3.6.9"
  }
 },
 "nbformat": 4,
 "nbformat_minor": 4
}
